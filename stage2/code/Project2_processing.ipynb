{
 "cells": [
  {
   "cell_type": "code",
   "execution_count": 73,
   "metadata": {},
   "outputs": [
    {
     "name": "stderr",
     "output_type": "stream",
     "text": [
      "C:\\Users\\hexy7\\Anaconda3\\lib\\site-packages\\IPython\\core\\interactiveshell.py:2728: DtypeWarning: Columns (37,40,42,43,45,46,47,50,52,55,56,57,58,61,62,63,64) have mixed types. Specify dtype option on import or set low_memory=False.\n",
      "  interactivity=interactivity, compiler=compiler, result=result)\n"
     ]
    }
   ],
   "source": [
    "import pandas as pd\n",
    "import numpy as np\n",
    "import random\n",
    "import matplotlib.pyplot as plt\n",
    "\n",
    "data_uiuc=pd.read_csv('BOOKS_UIUC.csv', delimiter='\\t')\n",
    "data_uwm=pd.read_csv('BOOKS_UWM.csv', delimiter='\\t')"
   ]
  },
  {
   "cell_type": "code",
   "execution_count": null,
   "metadata": {},
   "outputs": [],
   "source": [
    "data_uiuc['Author'].fillna(data_uiuc['Main Author'], inplace = True)\n",
    "data_uiuc['Author'].fillna(data_uiuc['Names'], inplace = True)"
   ]
  },
  {
   "cell_type": "code",
   "execution_count": 136,
   "metadata": {
    "scrolled": false
   },
   "outputs": [],
   "source": [
    "data_uiuc_rm = data_uiuc[['ID', 'TITLE', 'Author', 'Published', 'Genres','ISBN','Series', 'Physical Description']]\n",
    "#nan[nan['ISBN']]\n",
    "data_uiuc_rm = data_uiuc_rm[~data_uiuc_rm['ISBN'].isnull()]\n",
    "data_uiuc_rm = data_uiuc_rm[~data_uiuc_rm['Author'].isnull()]\n",
    "\n",
    "\n",
    "data_uwm_rm = data_uwm[['ID', 'TITLE', 'CREATOR', 'PUBLICATION', 'FORMAT', 'ISBNS', 'SERIES', 'PHYSICAL DETAILS']]\n",
    "data_uwm_rm = data_uwm_rm[~data_uwm_rm['CREATOR'].isnull()]\n",
    "data_uwm_rm = data_uwm_rm[~data_uwm_rm['ISBNS'].isnull()]"
   ]
  },
  {
   "cell_type": "code",
   "execution_count": 138,
   "metadata": {},
   "outputs": [],
   "source": [
    "data_uiuc_rm.columns = ['ID', 'Title', 'Author', 'Publication', 'Format', 'ISBN', 'Series', 'Physical Details']\n",
    "data_uwm_rm.columns = ['ID', 'Title', 'Author', 'Publication', 'Format', 'ISBN', 'Series', 'Physical Details']\n",
    "data_uwm_rm = data_uwm_rm[['Title', 'Author', 'Publication', 'Format', 'ISBN', 'Series', 'Physical Details']]\n",
    "data_uiuc_rm = data_uiuc_rm[['Title', 'Author', 'Publication', 'Format', 'ISBN', 'Series', 'Physical Details']]"
   ]
  },
  {
   "cell_type": "code",
   "execution_count": null,
   "metadata": {},
   "outputs": [],
   "source": []
  }
 ],
 "metadata": {
  "kernelspec": {
   "display_name": "Python 3",
   "language": "python",
   "name": "python3"
  },
  "language_info": {
   "codemirror_mode": {
    "name": "ipython",
    "version": 3
   },
   "file_extension": ".py",
   "mimetype": "text/x-python",
   "name": "python",
   "nbconvert_exporter": "python",
   "pygments_lexer": "ipython3",
   "version": "3.6.4"
  }
 },
 "nbformat": 4,
 "nbformat_minor": 2
}
