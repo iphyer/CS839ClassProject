{
 "cells": [
  {
   "cell_type": "code",
   "execution_count": 61,
   "metadata": {},
   "outputs": [],
   "source": [
    "from sklearn.feature_extraction.text import TfidfVectorizer\n",
    "from sklearn.cluster import KMeans\n",
    "import pandas as pd\n",
    "import matplotlib.pyplot as plt\n",
    "%matplotlib inline  \n",
    "data=pd.read_csv('Table_E.csv')"
   ]
  },
  {
   "cell_type": "code",
   "execution_count": 62,
   "metadata": {},
   "outputs": [],
   "source": [
    "vectorizer = TfidfVectorizer(stop_words='english')\n",
    "X = vectorizer.fit_transform(data['Title'])"
   ]
  },
  {
   "cell_type": "code",
   "execution_count": 65,
   "metadata": {},
   "outputs": [
    {
     "data": {
      "image/png": "[encoded data removed]",
      "text/plain": [
       "<matplotlib.figure.Figure at 0x1165372b0>"
      ]
     },
     "metadata": {},
     "output_type": "display_data"
    },
    {
     "data": {
      "text/plain": [
       "<matplotlib.figure.Figure at 0x11404b710>"
      ]
     },
     "metadata": {},
     "output_type": "display_data"
    }
   ],
   "source": [
    "Nc = range(1, 10)\n",
    "kmeans = [KMeans(n_clusters=i) for i in Nc]\n",
    "score = [kmeans[i].fit(X).score(X) for i in range(len(kmeans))]\n",
    "elbow=plt.plot(Nc,score)\n",
    "plt.xlabel('Number of Clusters')\n",
    "plt.ylabel('Score')\n",
    "plt.title('Elbow Curve')\n",
    "plt.savefig('elbow.png')"
   ]
  },
  {
   "cell_type": "code",
   "execution_count": 63,
   "metadata": {},
   "outputs": [
    {
     "name": "stdout",
     "output_type": "stream",
     "text": [
      "Top terms per cluster:\n",
      "Cluster 0:\n",
      " handbook\n",
      " data\n",
      " science\n",
      " research\n",
      " sage\n",
      " analysis\n",
      " methods\n",
      " social\n",
      " oxford\n",
      " library\n",
      "\n",
      "\n",
      "Cluster 1:\n",
      " science\n",
      " computer\n",
      " data\n",
      " computational\n",
      " engineering\n",
      " transactions\n",
      " applications\n",
      " social\n",
      " research\n",
      " technology\n",
      "\n",
      "\n",
      "Cluster 2:\n",
      " structures\n",
      " data\n",
      " algorithms\n",
      " java\n",
      " using\n",
      " introduction\n",
      " pascal\n",
      " algorithm\n",
      " analysis\n",
      " programming\n",
      "\n",
      "\n",
      "Cluster 3:\n",
      " data\n",
      " sciences\n",
      " applications\n",
      " systems\n",
      " information\n",
      " research\n",
      " methods\n",
      " computing\n",
      " social\n",
      " introduction\n",
      "\n",
      "\n",
      "Cluster 4:\n",
      " 2012\n",
      " international\n",
      " conference\n",
      " proceedings\n",
      " september\n",
      " revised\n",
      " selected\n",
      " papers\n",
      " information\n",
      " october\n",
      "\n",
      "\n",
      "Cluster 5:\n",
      " digital\n",
      " multimedia\n",
      " hiding\n",
      " security\n",
      " age\n",
      " transactions\n",
      " forensics\n",
      " data\n",
      " language\n",
      " information\n",
      "\n",
      "\n",
      "Cluster 6:\n",
      " proceedings\n",
      " international\n",
      " conference\n",
      " 2013\n",
      " 2017\n",
      " 2015\n",
      " 2011\n",
      " september\n",
      " information\n",
      " cryptology\n",
      "\n",
      "\n",
      "Cluster 7:\n",
      " centered\n",
      " scale\n",
      " large\n",
      " transactions\n",
      " knowledge\n",
      " systems\n",
      " data\n",
      " issue\n",
      " special\n",
      " expert\n",
      "\n",
      "\n",
      "Cluster 8:\n",
      " analysis\n",
      " data\n",
      " social\n",
      " methods\n",
      " guide\n",
      " sciences\n",
      " spss\n",
      " statistical\n",
      " using\n",
      " statistics\n",
      "\n",
      "\n",
      "Cluster 9:\n",
      " papers\n",
      " selected\n",
      " revised\n",
      " 2016\n",
      " international\n",
      " 2014\n",
      " conference\n",
      " 2011\n",
      " workshop\n",
      " security\n",
      "\n",
      "\n"
     ]
    }
   ],
   "source": [
    "true_k = 10\n",
    "model = KMeans(n_clusters=true_k, init='k-means++', max_iter=100, n_init=1)\n",
    "model.fit(X)\n",
    "print(\"Top terms per cluster:\")\n",
    "order_centroids = model.cluster_centers_.argsort()[:, ::-1]\n",
    "terms = vectorizer.get_feature_names()\n",
    "for i in range(true_k):\n",
    "    print(\"Cluster %d:\" % i),\n",
    "    for ind in order_centroids[i, :10]:\n",
    "        print(' %s' % terms[ind]),\n",
    "    print(\"\\n\")\n",
    " "
   ]
  },
  {
   "cell_type": "code",
   "execution_count": 31,
   "metadata": {},
   "outputs": [],
   "source": [
    "label= pd.DataFrame(model.labels_.tolist(),columns=['label'])\n",
    "result=pd.concat([data,label],axis=1)"
   ]
  },
  {
   "cell_type": "code",
   "execution_count": 52,
   "metadata": {},
   "outputs": [],
   "source": [
    "count=result[['Source','label']].groupby(['Source', 'label']).size().reset_index(name='counts')"
   ]
  },
  {
   "cell_type": "code",
   "execution_count": 50,
   "metadata": {},
   "outputs": [],
   "source": [
    "count.groupby(['label']).plot.bar(x=count['Source'],y=count['counts'])"
   ]
  },
  {
   "cell_type": "code",
   "execution_count": 60,
   "metadata": {},
   "outputs": [
    {
     "data": {
      "image/png": "[encoded data removed]",
      "text/plain": [
       "<matplotlib.figure.Figure at 0x117cfe1d0>"
      ]
     },
     "metadata": {},
     "output_type": "display_data"
    }
   ],
   "source": [
    "p=count.pivot(index='label', columns='Source', values='counts').plot.bar(stacked=True)\n",
    "plt.legend(('UWM','Both','UIUC'), loc='best')\n",
    "plt.savefig('result.png')"
   ]
  },
  {
   "cell_type": "code",
   "execution_count": null,
   "metadata": {},
   "outputs": [],
   "source": []
  }
 ],
 "metadata": {
  "kernelspec": {
   "display_name": "Python 3",
   "language": "python",
   "name": "python3"
  },
  "language_info": {
   "codemirror_mode": {
    "name": "ipython",
    "version": 3
   },
   "file_extension": ".py",
   "mimetype": "text/x-python",
   "name": "python",
   "nbconvert_exporter": "python",
   "pygments_lexer": "ipython3",
   "version": "3.6.3"
  }
 },
 "nbformat": 4,
 "nbformat_minor": 2
}
