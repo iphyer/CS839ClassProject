{
 "cells": [
  {
   "cell_type": "markdown",
   "metadata": {},
   "source": [
    "# Apply matcher M to A, B"
   ]
  },
  {
   "cell_type": "code",
   "execution_count": null,
   "metadata": {},
   "outputs": [],
   "source": [
    "import pandas as pd\n",
    "import py_entitymatching as em\n",
    "A = em.read_csv_metadata('../data/TableA.csv', key = 'ID')\n",
    "B = em.read_csv_metadata('../data/TableB.csv', key = 'ID')\n",
    "block_f = em.get_features_for_blocking(A, B)\n",
    "block_t = em.get_tokenizers_for_blocking()\n",
    "block_s = em.get_sim_funs_for_blocking()\n",
    "r = em.get_feature_fn('jaccard(dlm_dc0(ltuple[\"Title\"]), dlm_dc0(rtuple[\"Title\"]))', block_t, block_s)\n",
    "em.add_feature(block_f, 'Title_Title_jac_dlm_dc0_dlm_dc0', r)\n",
    "ob = em.OverlapBlocker()\n",
    "C = ob.block_tables(A, B, 'Author', 'Author', \n",
    "                    l_output_attrs=['Title','Author','Publication','Format','ISBN','Series', 'Physical Details'], \n",
    "                    r_output_attrs=['Title','Author','Publication','Format','ISBN','Series', 'Physical Details'], \n",
    "                    overlap_size = 2)\n",
    "D = ob.block_candset(C, 'Title', 'Title', overlap_size = 4)\n",
    "match_f = em.get_features_for_matching(A, B)\n",
    "match_t = em.get_tokenizers_for_matching()\n",
    "match_s = em.get_sim_funs_for_matching()\n",
    "f1 = em.get_feature_fn('jaccard(dlm_dc0(ltuple[\"Title\"]), dlm_dc0(rtuple[\"Title\"]))', match_t, match_s)\n",
    "f2 = em.get_feature_fn('jaccard(dlm_dc0(ltuple[\"Author\"]), dlm_dc0(rtuple[\"Author\"]))', match_t, match_s)\n",
    "f3 = em.get_feature_fn('jaccard(dlm_dc0(ltuple[\"Publication\"]), dlm_dc0(rtuple[\"Publication\"]))', match_t, match_s)\n",
    "f4 = em.get_feature_fn('jaccard(dlm_dc0(ltuple[\"Series\"]), dlm_dc0(rtuple[\"Series\"]))', match_t, match_s)\n",
    "em.add_feature(match_f, 'Title_Title_jac_dlm_dc0_dlm_dc0', f1)\n",
    "em.add_feature(match_f, 'Author_Author_jac_dlm_dc0_dlm_dc0', f2)\n",
    "em.add_feature(match_f, 'Publication_Publication_jac_dlm_dc0_dlm_dc0', f3)\n",
    "em.add_feature(match_f, 'Series_Series_jac_dlm_dc0_dlm_dc0', f4)\n",
    "# Add blackbox feature\n",
    "\n",
    "import re\n",
    "# for Roman numerals matching\n",
    "def Title_Title_blackbox_1(x, y):\n",
    "    \n",
    "    # get name attribute\n",
    "    x_title = x['Title']\n",
    "    y_title = y['Title']\n",
    "    regex_roman = '\\s+[MDCLXVI]+\\s+'\n",
    "    x_match = None\n",
    "    y_match = None\n",
    "    if re.search(regex_roman, x_title):\n",
    "        x_match = re.search(regex_roman, x_title).group(0)\n",
    "    if re.search(regex_roman, y_title):\n",
    "        y_match = re.search(regex_roman, y_title).group(0)\n",
    "\n",
    "    if x_match is None or y_match is None:\n",
    "        return False\n",
    "    else:\n",
    "        return x_match == y_match\n",
    "\n",
    "em.add_blackbox_feature(match_f, 'blackbox_1', Title_Title_blackbox_1)\n",
    "match_f = match_f[(match_f['left_attribute'] != 'ID') & (match_f['left_attribute'] != 'ISBN')]\n",
    "H = em.extract_feature_vecs(D, feature_table=match_f)\n",
    "pred_table = rf.predict(table= H, \n",
    "                        exclude_attrs=['_id', 'ltable_ID', 'rtable_ID'], \n",
    "                        target_attr='predicted_labels', \n",
    "                        return_probs=True, \n",
    "                        probs_attr='proba', \n",
    "                        append=True)"
   ]
  },
  {
   "cell_type": "markdown",
   "metadata": {},
   "source": [
    "# Merge A, B\n",
    "We can obtain a list of ltable_ID and rtable_ID that are predicted to be a match. Based on the list, we first append the remaining non-matching cases to table E. For those appeared in the list, we retain attributes with longer string length, i.e. embedded with more information."
   ]
  },
  {
   "cell_type": "code",
   "execution_count": null,
   "metadata": {},
   "outputs": [],
   "source": [
    "#AB_list=[['ltable_ID','rtable_ID'] for x in pred_table if predicted_labels==1]\n",
    "#AB_dict =  {item[0]: item[1] for item in AB_list}\n",
    "#BA_dict =  {item[1]: item[0] for item in AB_list}\n",
    "\n",
    "attr=['Title','Author','Publication','Format','ISBN','Series', 'Physical Details']\n",
    "with open(\"table_E.csv\", 'wb') as csvOut:\n",
    "    writer = csv.writer(csvOut,delimiter = ',')\n",
    "    for index, r in A.iterrows():\n",
    "        row=[]\n",
    "        if r['ID'] in AB_dict.keys():\n",
    "            for j in attr:\n",
    "                if len(r[j])<len(B.loc[B['ID'] == AB_dict[r['ID']]][j])\n",
    "                    row.append(B.loc[B['ID'] == AB_dict[r['ID']]][j])\n",
    "                else:\n",
    "                    row.append(r[j])\n",
    "            else:\n",
    "                for j in attr:\n",
    "                    row.append(r[j])\n",
    "        writer.writerow(row)\n",
    "        \n",
    "    for index, r in B.iterrows():\n",
    "        row=[]\n",
    "        if r['ID'] not in BA_dict.keys():\n",
    "            for j in attr:\n",
    "                row.append(r[j])\n",
    "        writer.writerow(row)"
   ]
  },
  {
   "cell_type": "code",
   "execution_count": null,
   "metadata": {},
   "outputs": [],
   "source": []
  }
 ],
 "metadata": {
  "kernelspec": {
   "display_name": "Python 3",
   "language": "python",
   "name": "python3"
  },
  "language_info": {
   "codemirror_mode": {
    "name": "ipython",
    "version": 3
   },
   "file_extension": ".py",
   "mimetype": "text/x-python",
   "name": "python",
   "nbconvert_exporter": "python",
   "pygments_lexer": "ipython3",
   "version": "3.6.3"
  }
 },
 "nbformat": 4,
 "nbformat_minor": 2
}
