{
 "cells": [
  {
   "cell_type": "code",
   "execution_count": 6,
   "metadata": {
    "collapsed": true
   },
   "outputs": [],
   "source": [
    "import pandas as pd"
   ]
  },
  {
   "cell_type": "markdown",
   "metadata": {},
   "source": [
    "# Merge A, B\n",
    "\n",
    "We can obtain a list of ltable_ID and rtable_ID that are predicted to be a match. Based on the list, we first append the remaining non-matching cases to table E. For those appeared in the list, we retain attributes with longer string length, i.e. embedded with more information."
   ]
  },
  {
   "cell_type": "code",
   "execution_count": 5,
   "metadata": {},
   "outputs": [
    {
     "data": {
      "text/plain": [
       "(1176, 18)"
      ]
     },
     "execution_count": 5,
     "metadata": {},
     "output_type": "execute_result"
    }
   ],
   "source": [
    "M = pd.read_csv('matched_set.csv')\n",
    "\n",
    "M.shape"
   ]
  },
  {
   "cell_type": "code",
   "execution_count": 9,
   "metadata": {},
   "outputs": [
    {
     "name": "stdout",
     "output_type": "stream",
     "text": [
      "   Unnamed: 0  _id ltable_ID_x rtable_ID_x  \\\n0           0    0       a2337          b0   \n1           1    1       a3097          b1   \n2           2    2       a4508          b2   \n3           3    3       a3267          b3   \n4           4    5       a4755          b5   \n5           5    6       a2523          b6   \n6           6    7       a3584          b7   \n7           7    8       a1869          b8   \n8           8    9       a1186          b9   \n9           9   10       a3432         b11   \n\n                                        ltable_Title  \\\n0            \"Statistical learning and data science\"   \n1          \"Intelligent techniques for data science\"   \n2                      \"Algorithms for data science\"   \n3                 \"Data science at the command line\"   \n4    \"Introduction to HPC with MPI for data science\"   \n5  \"Data Science Using Oracle Data Miner and Orac...   \n6                        \"The data science handbook\"   \n7  \"Data science : create teams that ask the righ...   \n8  \"Spatial big data science classification techn...   \n9  \"Practical data science cookbook : 89 hands-on...   \n\n                                       ltable_Author  \\\n0  \"edited by Mireille Gettler Summa ... [and oth...   \n1           \"Rajendra Akerkar, Priti Srinivas Sajja\"   \n2        \"Brian Steele, John Chandler, Swarna Reddy\"   \n3                                  \"Jeroen Janssens\"   \n4                                    \"Frank Nielsen\"   \n5                                     \"Sibanjan Das\"   \n6                                       \"Field Cady\"   \n7                                        \"Doug Rose\"   \n8                        \"Zhe Jiang, Shashi Shekhar\"   \n9  \"Tony Ojeda, Sean Patrick Murphy, Benjamin Ben...   \n\n                                  ltable_Publication ltable_Format  \\\n0             \"Boca Raton : CRC Press, [2012] ©2012\"       \"Books\"   \n1              \"Cham, Switzerland : Springer, 2016.\"       \"Books\"   \n2              \"Cham, Switzerland : Springer, 2016.\"       \"Books\"   \n3  \"First edition. Sebastopol, CA : O'Reilly, 201...       \"Books\"   \n4                           \"Cham : Springer, 2016.\"       \"Books\"   \n5  \"Berkeley, CA : Apress, 2016. Berkeley, CA : A...       \"Books\"   \n6     \"Hoboken, NJ : John Wiley & Sons, Inc., 2017.\"       \"Books\"   \n7                   \"[Berkeley, CA] : Apress, 2016.\"       \"Books\"   \n8                           \"Cham : Springer, 2017.\"       \"Books\"   \n9  \"Birmingham, UK : Packt Publishing Ltd., Septe...       \"Books\"   \n\n     ltable_ISBN                                    ltable_Series  \\\n0  9781439867631  \"Series in computer science and data analysis,\"   \n1  9783319292069                                            \"nan\"   \n2  9783319457970                                            \"nan\"   \n3  9781491947852                                            \"nan\"   \n4  9783319219035      \"Undergraduate topics in computer science,\"   \n5  9781484226148                                            \"nan\"   \n6  9781119092933                                            \"nan\"   \n7  9781484222539                                            \"nan\"   \n8  9783319601953                                            \"nan\"   \n9  9781783980246                                            \"nan\"   \n\n  ltable_Physical Details                                       rtable_Title  \\\n0                   \"nan\"          \"Statistical learning and data science  \"   \n1                   \"nan\"        \"Intelligent techniques for data science  \"   \n2                   \"nan\"                    \"Algorithms for data science  \"   \n3                   \"nan\"               \"Data science at the command line  \"   \n4                   \"nan\"  \"Introduction to HPC with MPI for data science  \"   \n5                   \"nan\"  \"Data Science Using Oracle Data Miner and Orac...   \n6                   \"nan\"                      \"The data science handbook  \"   \n7                   \"nan\"  \"Data science : create teams that ask the righ...   \n8                   \"nan\"  \"Spatial big data science : classification tec...   \n9                   \"nan\"  \"Practical data science cookbook : 89 hands-on...   \n\n                 rtable_Author   rtable_Publication  \\\n0   \"Summa, Mireille Gettler.\"         \"Boca Raton\"   \n1          \"Akerkar, Rajendra\"  \"Cham, Switzerland\"   \n2              \"Steele, Brian\"  \"Cham, Switzerland\"   \n3           \"Janssens, Jeroen\"     \"Sebastopol, CA\"   \n4             \"Nielsen, Frank\"               \"Cham\"   \n5             \"Das, Sibanjan.\"       \"Berkeley, CA\"   \n6         \"Cady, Field, 1984-\"        \"Hoboken, NJ\"   \n7  \"Rose, Doug, (Agile coach)\"     \"[Berkeley, CA]\"   \n8                \"Jiang, Zhe.\"               \"Cham\"   \n9               \"Ojeda, Tony.\"     \"Birmingham, UK\"   \n\n                                  rtable_Format    rtable_ISBN  \\\n0                                         \"nan\"  9781439867631   \n1                           \"Electronic books.\"  9783319292069   \n2                           \"Electronic books.\"  9783319457970   \n3                                         \"nan\"  9781491947852   \n4                           \"Electronic books.\"  9783319219035   \n5                           \"Electronic books.\"  9781484226148   \n6  \"Electronic books. | Handbooks and manuals.\"  9781119092933   \n7                           \"Electronic books.\"  9781484222539   \n8                           \"Electronic books.\"  9783319601953   \n9                           \"Electronic books.\"  9781783980253   \n\n                                       rtable_Series  \\\n0    \"Series in computer science and data analysis.\"   \n1                                              \"nan\"   \n2                                              \"nan\"   \n3                                              \"nan\"   \n4  \"Undergraduate topics in computer science, 186...   \n5                                              \"nan\"   \n6                                              \"nan\"   \n7                                              \"nan\"   \n8                                              \"nan\"   \n9                                              \"nan\"   \n\n                   rtable_Physical Details  \n0                             \"xv, 227 p.\"  \n1     \"1 online resource (xvi, 272 pages)\"  \n2   \"1 online resource (xxiii, 430 pages)\"  \n3                        \"xvii, 191 pages\"  \n4  \"1 online resource (xxxiii, 282 pages)\"  \n5          \"1 online resource (300 pages)\"  \n6                      \"1 online resource\"  \n7                      \"1 online resource\"  \n8                      \"1 online resource\"  \n9                      \"1 online resource\"  \n"
     ]
    }
   ],
   "source": [
    "print(M.head(10))"
   ]
  },
  {
   "cell_type": "code",
   "execution_count": null,
   "metadata": {},
   "outputs": [],
   "source": []
  }
 ],
 "metadata": {
  "kernelspec": {
   "display_name": "Python 2",
   "language": "python",
   "name": "python2"
  },
  "language_info": {
   "codemirror_mode": {
    "name": "ipython",
    "version": 2
   },
   "file_extension": ".py",
   "mimetype": "text/x-python",
   "name": "python",
   "nbconvert_exporter": "python",
   "pygments_lexer": "ipython2",
   "version": "2.7.6"
  }
 },
 "nbformat": 4,
 "nbformat_minor": 0
}
